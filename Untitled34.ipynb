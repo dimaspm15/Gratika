{
  "nbformat": 4,
  "nbformat_minor": 0,
  "metadata": {
    "colab": {
      "provenance": [],
      "authorship_tag": "ABX9TyPnDBlxnSSsBsVmFhJkVR8R"
    },
    "kernelspec": {
      "name": "python3",
      "display_name": "Python 3"
    },
    "language_info": {
      "name": "python"
    }
  },
  "cells": [
    {
      "cell_type": "code",
      "source": [
        "array = [12, 9, 30, \"A\", \"M\", 99, 82, \"J\", \"N\", \"B\"]\n",
        "\n",
        "\n",
        "letters = [x for x in array if isinstance(x, str)]\n",
        "numbers = [x for x in array if isinstance(x, int)]\n",
        "\n",
        "\n",
        "letters.sort()\n",
        "numbers.sort()\n",
        "\n",
        "\n",
        "sorted_array = letters + numbers\n",
        "\n",
        "print(sorted_array)\n"
      ],
      "metadata": {
        "id": "ZSSa7dC_JqIo",
        "outputId": "7e490853-6609-4e68-c2ff-21917d830b3b",
        "colab": {
          "base_uri": "https://localhost:8080/"
        }
      },
      "execution_count": 8,
      "outputs": [
        {
          "output_type": "stream",
          "name": "stdout",
          "text": [
            "['A', 'B', 'J', 'M', 'N', 9, 12, 30, 82, 99]\n"
          ]
        }
      ]
    },
    {
      "cell_type": "code",
      "source": [
        "def pattern_count(text: str, pattern: str) -> int:\n",
        "    text_len = len(text)\n",
        "    pattern_len = len(pattern)\n",
        "    count = 0\n",
        "\n",
        "    for i in range(text_len - pattern_len + 1):\n",
        "        match = True\n",
        "        for j in range(pattern_len):\n",
        "            if text[i + j] != pattern[j]:\n",
        "                match = False\n",
        "                break\n",
        "        if match:\n",
        "            count += 1\n",
        "\n",
        "    return count\n",
        "\n",
        "\n",
        "print(pattern_count(\"ababcabcab\", \"abc\"))\n"
      ],
      "metadata": {
        "colab": {
          "base_uri": "https://localhost:8080/"
        },
        "id": "97lDxrsdaekm",
        "outputId": "a5793ef8-9091-4535-eebe-a385df05cb91"
      },
      "execution_count": 9,
      "outputs": [
        {
          "output_type": "stream",
          "name": "stdout",
          "text": [
            "2\n"
          ]
        }
      ]
    },
    {
      "cell_type": "code",
      "source": [
        "def hitung_huruf_urut():\n",
        "    teks = input(\"Masukkan teks: \")\n",
        "    hitung = {}\n",
        "\n",
        "    for huruf in teks:\n",
        "        if huruf.isalpha():\n",
        "            if huruf in hitung:\n",
        "                hitung[huruf] += 1\n",
        "            else:\n",
        "                hitung[huruf] = 1\n",
        "\n",
        "\n",
        "    for huruf in sorted(hitung.keys()):\n",
        "        print(f\"{huruf}: {hitung[huruf]}\")\n",
        "\n",
        "\n",
        "hitung_huruf_urut()\n"
      ],
      "metadata": {
        "colab": {
          "base_uri": "https://localhost:8080/"
        },
        "id": "bm2y4naEbYv_",
        "outputId": "c89fc321-43f9-43fe-fca7-efd1262cd187"
      },
      "execution_count": 10,
      "outputs": [
        {
          "output_type": "stream",
          "name": "stdout",
          "text": [
            "Masukkan teks: dimas putra mahendra\n",
            "a: 4\n",
            "d: 2\n",
            "e: 1\n",
            "h: 1\n",
            "i: 1\n",
            "m: 2\n",
            "n: 1\n",
            "p: 1\n",
            "r: 2\n",
            "s: 1\n",
            "t: 1\n",
            "u: 1\n"
          ]
        }
      ]
    }
  ]
}